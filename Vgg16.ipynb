{
  "nbformat": 4,
  "nbformat_minor": 0,
  "metadata": {
    "colab": {
      "provenance": [],
      "gpuType": "T4",
      "authorship_tag": "ABX9TyNUzYk//WBG5YZIXu4WEmUg",
      "include_colab_link": true
    },
    "kernelspec": {
      "name": "python3",
      "display_name": "Python 3"
    },
    "language_info": {
      "name": "python"
    },
    "accelerator": "GPU",
    "gpuClass": "standard"
  },
  "cells": [
    {
      "cell_type": "markdown",
      "metadata": {
        "id": "view-in-github",
        "colab_type": "text"
      },
      "source": [
        "<a href=\"https://colab.research.google.com/github/rzens/myOriginalRzens/blob/master/Vgg16.ipynb\" target=\"_parent\"><img src=\"https://colab.research.google.com/assets/colab-badge.svg\" alt=\"Open In Colab\"/></a>"
      ]
    },
    {
      "cell_type": "code",
      "execution_count": 1,
      "metadata": {
        "colab": {
          "base_uri": "https://localhost:8080/"
        },
        "id": "DsA9BeqqVuTc",
        "outputId": "fbb08ff0-b0a8-4ef0-e19c-8e875c375b57"
      },
      "outputs": [
        {
          "output_type": "stream",
          "name": "stdout",
          "text": [
            "Mounted at /content/drive\n",
            "/content/drive/MyDrive/Dataset\n",
            "/content/drive/MyDrive/Dataset\n"
          ]
        }
      ],
      "source": [
        "# 连接到 google 云盘\n",
        "from google.colab import drive\n",
        "drive.mount('/content/drive')\n",
        "%cd drive/MyDrive/Dataset/\n",
        "!pwd"
      ]
    },
    {
      "cell_type": "code",
      "source": [
        "!pip install torchvision"
      ],
      "metadata": {
        "colab": {
          "base_uri": "https://localhost:8080/"
        },
        "id": "KLYBtlxkXNqu",
        "outputId": "14df0945-07fc-4a27-dac1-6f947e9cdc80"
      },
      "execution_count": 2,
      "outputs": [
        {
          "output_type": "stream",
          "name": "stdout",
          "text": [
            "Looking in indexes: https://pypi.org/simple, https://us-python.pkg.dev/colab-wheels/public/simple/\n",
            "Requirement already satisfied: torchvision in /usr/local/lib/python3.10/dist-packages (0.15.1+cu118)\n",
            "Requirement already satisfied: pillow!=8.3.*,>=5.3.0 in /usr/local/lib/python3.10/dist-packages (from torchvision) (8.4.0)\n",
            "Requirement already satisfied: numpy in /usr/local/lib/python3.10/dist-packages (from torchvision) (1.22.4)\n",
            "Requirement already satisfied: torch==2.0.0 in /usr/local/lib/python3.10/dist-packages (from torchvision) (2.0.0+cu118)\n",
            "Requirement already satisfied: requests in /usr/local/lib/python3.10/dist-packages (from torchvision) (2.27.1)\n",
            "Requirement already satisfied: triton==2.0.0 in /usr/local/lib/python3.10/dist-packages (from torch==2.0.0->torchvision) (2.0.0)\n",
            "Requirement already satisfied: sympy in /usr/local/lib/python3.10/dist-packages (from torch==2.0.0->torchvision) (1.11.1)\n",
            "Requirement already satisfied: networkx in /usr/local/lib/python3.10/dist-packages (from torch==2.0.0->torchvision) (3.1)\n",
            "Requirement already satisfied: filelock in /usr/local/lib/python3.10/dist-packages (from torch==2.0.0->torchvision) (3.12.0)\n",
            "Requirement already satisfied: typing-extensions in /usr/local/lib/python3.10/dist-packages (from torch==2.0.0->torchvision) (4.5.0)\n",
            "Requirement already satisfied: jinja2 in /usr/local/lib/python3.10/dist-packages (from torch==2.0.0->torchvision) (3.1.2)\n",
            "Requirement already satisfied: lit in /usr/local/lib/python3.10/dist-packages (from triton==2.0.0->torch==2.0.0->torchvision) (16.0.2)\n",
            "Requirement already satisfied: cmake in /usr/local/lib/python3.10/dist-packages (from triton==2.0.0->torch==2.0.0->torchvision) (3.25.2)\n",
            "Requirement already satisfied: certifi>=2017.4.17 in /usr/local/lib/python3.10/dist-packages (from requests->torchvision) (2022.12.7)\n",
            "Requirement already satisfied: urllib3<1.27,>=1.21.1 in /usr/local/lib/python3.10/dist-packages (from requests->torchvision) (1.26.15)\n",
            "Requirement already satisfied: charset-normalizer~=2.0.0 in /usr/local/lib/python3.10/dist-packages (from requests->torchvision) (2.0.12)\n",
            "Requirement already satisfied: idna<4,>=2.5 in /usr/local/lib/python3.10/dist-packages (from requests->torchvision) (3.4)\n",
            "Requirement already satisfied: MarkupSafe>=2.0 in /usr/local/lib/python3.10/dist-packages (from jinja2->torch==2.0.0->torchvision) (2.1.2)\n",
            "Requirement already satisfied: mpmath>=0.19 in /usr/local/lib/python3.10/dist-packages (from sympy->torch==2.0.0->torchvision) (1.3.0)\n"
          ]
        }
      ]
    },
    {
      "cell_type": "code",
      "source": [
        "import time\n",
        "\n",
        "import torch\n",
        "from torch.nn import Module, Sequential, Conv2d, ReLU, MaxPool2d, AdaptiveAvgPool2d, Dropout, Linear, CrossEntropyLoss, \\\n",
        "    Flatten\n",
        "from torch.optim import Adam\n",
        "from torch.utils.data import DataLoader\n",
        "\n",
        "# from drive.MyDrive.Dataset import MyDataset\n",
        "\n",
        "class Vgg16(Module):\n",
        "    def __init__(self):\n",
        "        super(Vgg16, self).__init__()\n",
        "        self.features = Sequential(\n",
        "            Conv2d(3, 64, kernel_size=(3, 3), stride=(1, 1), padding=(1, 1)),\n",
        "            ReLU(inplace=True),\n",
        "            Conv2d(64, 64, kernel_size=(3, 3), stride=(1, 1), padding=(1, 1)),\n",
        "            ReLU(inplace=True),\n",
        "            MaxPool2d(kernel_size=2, stride=2, padding=0, dilation=1, ceil_mode=False),\n",
        "\n",
        "            Conv2d(64, 128, kernel_size=(3, 3), stride=(1, 1), padding=(1, 1)),\n",
        "            ReLU(inplace=True),\n",
        "            Conv2d(128, 128, kernel_size=(3, 3), stride=(1, 1), padding=(1, 1)),\n",
        "            ReLU(inplace=True),\n",
        "            MaxPool2d(kernel_size=2, stride=2, padding=0, dilation=1, ceil_mode=False),\n",
        "\n",
        "            Conv2d(128, 256, kernel_size=(3, 3), stride=(1, 1), padding=(1, 1)),\n",
        "            ReLU(inplace=True),\n",
        "            Conv2d(256, 256, kernel_size=(3, 3), stride=(1, 1), padding=(1, 1)),\n",
        "            ReLU(inplace=True),\n",
        "            Conv2d(256, 256, kernel_size=(3, 3), stride=(1, 1), padding=(1, 1)),\n",
        "            ReLU(inplace=True),\n",
        "            MaxPool2d(kernel_size=2, stride=2, padding=0, dilation=1, ceil_mode=False),\n",
        "\n",
        "            Conv2d(256, 512, kernel_size=(3, 3), stride=(1, 1), padding=(1, 1)),\n",
        "            ReLU(inplace=True),\n",
        "            Conv2d(512, 512, kernel_size=(3, 3), stride=(1, 1), padding=(1, 1)),\n",
        "            ReLU(inplace=True),\n",
        "            Conv2d(512, 512, kernel_size=(3, 3), stride=(1, 1), padding=(1, 1)),\n",
        "            ReLU(inplace=True),\n",
        "            MaxPool2d(kernel_size=2, stride=2, padding=0, dilation=1, ceil_mode=False),\n",
        "\n",
        "            Conv2d(512, 512, kernel_size=(3, 3), stride=(1, 1), padding=(1, 1)),\n",
        "            ReLU(inplace=True),\n",
        "            Conv2d(512, 512, kernel_size=(3, 3), stride=(1, 1), padding=(1, 1)),\n",
        "            ReLU(inplace=True),\n",
        "            Conv2d(512, 512, kernel_size=(3, 3), stride=(1, 1), padding=(1, 1)),\n",
        "            ReLU(inplace=True),\n",
        "            MaxPool2d(kernel_size=2, stride=2, padding=0, dilation=1, ceil_mode=False)\n",
        "        )\n",
        "        self.avgpool = AdaptiveAvgPool2d(output_size=(7, 7))\n",
        "        self.classifier = Sequential(\n",
        "            Flatten(),\n",
        "            Linear(in_features=25088, out_features=4096, bias=True),\n",
        "            ReLU(inplace=True),\n",
        "            Dropout(p=0.5, inplace=False),\n",
        "            Linear(in_features=4096, out_features=4096, bias=True),\n",
        "            ReLU(inplace=True),\n",
        "            Dropout(p=0.5, inplace=False),\n",
        "            Linear(in_features=4096, out_features=10, bias=True)\n",
        "        )\n",
        "\n",
        "    def forward(self, x):\n",
        "        x = self.features(x)\n",
        "        x = self.avgpool(x)\n",
        "\n",
        "        x = self.classifier(x)\n",
        "        return x\n"
      ],
      "metadata": {
        "id": "OM6oozXKWISd"
      },
      "execution_count": 3,
      "outputs": []
    },
    {
      "cell_type": "code",
      "source": [
        "device = torch.device(\"cuda\" if torch.cuda.is_available() else \"cpu\")\n",
        "def train_model_a_epoch(model: torch.nn.Module, loss, optim: torch.optim.Optimizer,\n",
        "                        dataloader: torch.utils.data.dataloader, now_epoch: int):\n",
        "    start_time = time.time()\n",
        "    print(\"第 {} 次训练开始\".format(now_epoch))\n",
        "    model.train()\n",
        "    for data in dataloader:\n",
        "        imgs, targets = data\n",
        "        # imgs=transform(imgs)\n",
        "        imgs = imgs.to(device)\n",
        "        targets = targets.to(device)\n",
        "        train_output = model(imgs)\n",
        "        train_loss = loss(train_output, targets)\n",
        "\n",
        "        optim.zero_grad()\n",
        "        train_loss.backward()\n",
        "        optim.step()\n",
        "    end_time = time.time()\n",
        "    print(\"耗费时间 {}s\".format(end_time - start_time))\n",
        "\n",
        "\n",
        "def test_model_a_epoch(model: torch.nn.Module, loss,\n",
        "                       dataloader: torch.utils.data.dataloader, now_epoch: int):\n",
        "    start_time = time.time()\n",
        "    print(\"第 {} 次测试开始\".format(now_epoch))\n",
        "    # 和性能记录相关的变量 #\n",
        "    total_test_loss = 0\n",
        "    total_test_accuracy = 0\n",
        "    total_test_classes_accuracy = [0, 0, 0, 0, 0, 0, 0, 0, 0, 0, 0, 0]\n",
        "    total_test_classes_sum = [0, 0, 0, 0, 0, 0, 0, 0, 0, 0, 0, 0]\n",
        "    # ############### #\n",
        "    model.eval()\n",
        "    with torch.no_grad():\n",
        "        for batch in dataloader:\n",
        "            imgs, targets = batch\n",
        "            imgs = imgs.to(device)\n",
        "            targets = targets.to(device)\n",
        "            outputs = model(imgs)\n",
        "            test_loss = loss(outputs, targets)\n",
        "            total_test_loss += test_loss.item()\n",
        "\n",
        "            \"\"\"\n",
        "            output 是一个至少 shape 是 A = [ B1 = [], B2 = [], ...]\n",
        "            .argmax(1) 将得到 B1 中最大值的那个 index\n",
        "            \"\"\"\n",
        "            batch_accuracy = (outputs.argmax(1) == targets).sum()\n",
        "            # 查看各类的准确度\n",
        "            for classes0 in range(len(outputs.argmax(1))):\n",
        "                total_test_classes_sum[targets[classes0]] += 1\n",
        "                if outputs.argmax(1)[classes0] == targets[classes0]:\n",
        "                    total_test_classes_accuracy[targets[classes0]] += 1\n",
        "\n",
        "            total_test_accuracy += batch_accuracy.item()\n",
        "    print(\"验证集损失：{}。\".format(total_test_loss))\n",
        "    print(\"本次 epoch 正确率：{}。\".format(total_test_accuracy / test_data_size))\n",
        "    for classes1 in range(len(total_test_classes_accuracy)):\n",
        "        if total_test_classes_sum[classes1] == 0:\n",
        "            continue\n",
        "        print(\"本次 epoch 中第\" + str(classes1) + \"个类别的正确率：\" +\n",
        "              str(total_test_classes_accuracy[classes1] / total_test_classes_sum[classes1]) + \"。\",\n",
        "              \" total_test_classes_accuracy\", total_test_classes_accuracy[classes1])\n",
        "    end_time = time.time()\n",
        "    print(\"耗费时间 {}s\".format(end_time - start_time))"
      ],
      "metadata": {
        "id": "IWBW4LkBWLPw"
      },
      "execution_count": 4,
      "outputs": []
    },
    {
      "cell_type": "code",
      "source": [
        "if __name__ == \"__main__\":\n",
        "    import torchvision\n",
        "    train_data = torchvision.datasets.CIFAR10(root=\"drive/MyDrive/Dataset\", train=True,\n",
        "                                              transform=torchvision.transforms.ToTensor(),\n",
        "                                              download=True)\n",
        "    test_data = torchvision.datasets.CIFAR10(root=\"drive/MyDrive/Dataset\", train=False,\n",
        "                                            transform=torchvision.transforms.ToTensor(),\n",
        "                                            download=True)\n",
        "    test_data_size = len(test_data)\n",
        "    train_dataloader = DataLoader(train_data, batch_size=256)\n",
        "    test_dataloader = DataLoader(test_data, batch_size=256)\n",
        "\n",
        "    vgg16 = Vgg16()\n",
        "\n",
        "    device = torch.device(\"cpu\")\n",
        "    vgg16.to(device)\n",
        "    ce_loss = CrossEntropyLoss()\n",
        "    ce_loss.to(device)\n",
        "    adam_optim = Adam(vgg16.parameters())\n",
        "\n",
        "    # ##### intel ##### #\n",
        "    # import intel_extension_for_pytorch as ipex\n",
        "\n",
        "    # vgg16, adam_optim = ipex.optimize(vgg16, optimizer=adam_optim)\n",
        "    # ##### ##### ##### #\n",
        "\n",
        "    total_epochs = 30\n",
        "    now_epoch = 0\n",
        "    for i in range(total_epochs):\n",
        "        train_model_a_epoch(vgg16, ce_loss, adam_optim, train_dataloader, now_epoch)\n",
        "        test_model_a_epoch(vgg16, ce_loss, test_dataloader, now_epoch)\n",
        "        now_epoch += 1\n",
        "\n",
        "    torch.save(vgg16.state_dict(), \"model.pth\")  # 保存参数"
      ],
      "metadata": {
        "colab": {
          "base_uri": "https://localhost:8080/"
        },
        "id": "xunGkCSvWXFv",
        "outputId": "1c156c11-99fe-46e3-eb1c-6605b23c0846"
      },
      "execution_count": null,
      "outputs": [
        {
          "output_type": "stream",
          "name": "stdout",
          "text": [
            "Files already downloaded and verified\n",
            "Files already downloaded and verified\n",
            "第 0 次训练开始\n"
          ]
        }
      ]
    }
  ]
}